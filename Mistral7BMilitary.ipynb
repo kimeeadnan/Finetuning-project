{
 "cells": [
  {
   "cell_type": "code",
   "execution_count": 1,
   "id": "6d5cdea8-f145-4224-9716-97bf02a01401",
   "metadata": {},
   "outputs": [],
   "source": [
    "#import model"
   ]
  },
  {
   "cell_type": "code",
   "execution_count": 1,
   "id": "9de0e02c-ed13-4242-a987-2ebae4d8b112",
   "metadata": {},
   "outputs": [
    {
     "name": "stderr",
     "output_type": "stream",
     "text": [
      "2025-08-09 23:51:34.291200: I tensorflow/core/util/port.cc:153] oneDNN custom operations are on. You may see slightly different numerical results due to floating-point round-off errors from different computation orders. To turn them off, set the environment variable `TF_ENABLE_ONEDNN_OPTS=0`.\n",
      "2025-08-09 23:51:34.297820: E external/local_xla/xla/stream_executor/cuda/cuda_fft.cc:477] Unable to register cuFFT factory: Attempting to register factory for plugin cuFFT when one has already been registered\n",
      "WARNING: All log messages before absl::InitializeLog() is called are written to STDERR\n",
      "E0000 00:00:1754754694.305746  862915 cuda_dnn.cc:8310] Unable to register cuDNN factory: Attempting to register factory for plugin cuDNN when one has already been registered\n",
      "E0000 00:00:1754754694.308168  862915 cuda_blas.cc:1418] Unable to register cuBLAS factory: Attempting to register factory for plugin cuBLAS when one has already been registered\n",
      "2025-08-09 23:51:34.316443: I tensorflow/core/platform/cpu_feature_guard.cc:210] This TensorFlow binary is optimized to use available CPU instructions in performance-critical operations.\n",
      "To enable the following instructions: AVX2 AVX_VNNI FMA, in other operations, rebuild TensorFlow with the appropriate compiler flags.\n"
     ]
    },
    {
     "data": {
      "application/vnd.jupyter.widget-view+json": {
       "model_id": "abef621a2da840a6877fb2ee4ea7cc11",
       "version_major": 2,
       "version_minor": 0
      },
      "text/plain": [
       "Loading checkpoint shards:   0%|          | 0/3 [00:00<?, ?it/s]"
      ]
     },
     "metadata": {},
     "output_type": "display_data"
    },
    {
     "name": "stderr",
     "output_type": "stream",
     "text": [
      "Some parameters are on the meta device because they were offloaded to the cpu.\n"
     ]
    },
    {
     "name": "stdout",
     "output_type": "stream",
     "text": [
      "model is loaded\n"
     ]
    }
   ],
   "source": [
    "import os\n",
    "import torch\n",
    "import torch.nn as nn\n",
    "import bitsandbytes as bnb\n",
    "from datasets import load_dataset\n",
    "from transformers import AutoTokenizer, AutoConfig, AutoModelForCausalLM\n",
    "\n",
    "model = AutoModelForCausalLM.from_pretrained(\n",
    "    \"mistralai/Mistral-7B-Instruct-v0.3\",\n",
    "    device_map='auto',\n",
    ")\n",
    "\n",
    "tokenizer = AutoTokenizer.from_pretrained(\"mistralai/Mistral-7B-Instruct-v0.3\")\n",
    "tokenizer.pad_token = tokenizer.eos_token\n",
    "print(\"model is loaded\")"
   ]
  },
  {
   "cell_type": "code",
   "execution_count": null,
   "id": "4aa814a7-9291-409f-a1ce-75db7bb5f8cb",
   "metadata": {},
   "outputs": [],
   "source": [
    "#load dataset"
   ]
  },
  {
   "cell_type": "code",
   "execution_count": 1,
   "id": "7c0e93f9-8bdf-4ccb-b197-a70364545639",
   "metadata": {},
   "outputs": [
    {
     "data": {
      "application/vnd.jupyter.widget-view+json": {
       "model_id": "566bfe3e81f44cb0809e29edfbd8ab18",
       "version_major": 2,
       "version_minor": 0
      },
      "text/plain": [
       "Map:   0%|          | 0/793 [00:00<?, ? examples/s]"
      ]
     },
     "metadata": {},
     "output_type": "display_data"
    },
    {
     "data": {
      "application/vnd.jupyter.widget-view+json": {
       "model_id": "eee7ab22b6e447a8b9ea531269a80d28",
       "version_major": 2,
       "version_minor": 0
      },
      "text/plain": [
       "Map:   0%|          | 0/140 [00:00<?, ? examples/s]"
      ]
     },
     "metadata": {},
     "output_type": "display_data"
    },
    {
     "data": {
      "application/vnd.jupyter.widget-view+json": {
       "model_id": "969e856309d04d3b873cd0a5255cf30c",
       "version_major": 2,
       "version_minor": 0
      },
      "text/plain": [
       "Map:   0%|          | 0/140 [00:00<?, ? examples/s]"
      ]
     },
     "metadata": {},
     "output_type": "display_data"
    },
    {
     "data": {
      "application/vnd.jupyter.widget-view+json": {
       "model_id": "e733364c197c4573b006b3fbbf5c8346",
       "version_major": 2,
       "version_minor": 0
      },
      "text/plain": [
       "Map:   0%|          | 0/793 [00:00<?, ? examples/s]"
      ]
     },
     "metadata": {},
     "output_type": "display_data"
    },
    {
     "data": {
      "application/vnd.jupyter.widget-view+json": {
       "model_id": "bbb6fc65f5c94880bbf2ecd29a3f46fb",
       "version_major": 2,
       "version_minor": 0
      },
      "text/plain": [
       "Map:   0%|          | 0/140 [00:00<?, ? examples/s]"
      ]
     },
     "metadata": {},
     "output_type": "display_data"
    },
    {
     "data": {
      "application/vnd.jupyter.widget-view+json": {
       "model_id": "3d25be94bcb7407f912127a739362b57",
       "version_major": 2,
       "version_minor": 0
      },
      "text/plain": [
       "Map:   0%|          | 0/140 [00:00<?, ? examples/s]"
      ]
     },
     "metadata": {},
     "output_type": "display_data"
    }
   ],
   "source": [
    "import pandas as pd\n",
    "from datasets import Dataset, DatasetDict\n",
    "from sklearn.model_selection import train_test_split\n",
    "from transformers import AutoTokenizer\n",
    "\n",
    "df = pd.read_csv(\"MilitaryEquipmentCleaned.csv\")\n",
    "df = df[df['instruction'].notnull() & df['output'].notnull()]\n",
    "\n",
    "if 'input' not in df.columns:\n",
    "    df['input'] = ''\n",
    "\n",
    "train_df, val_df = train_test_split(df, test_size=0.15, random_state=42)\n",
    "\n",
    "data = DatasetDict({\n",
    "    \"train\": Dataset.from_pandas(train_df, preserve_index=False),\n",
    "    \"validation\": Dataset.from_pandas(val_df, preserve_index=False),\n",
    "    \"test\": Dataset.from_pandas(val_df.copy(), preserve_index=False)  # duplicate\n",
    "})\n",
    "\n",
    "def create_prompt(example):\n",
    "    prompt = f\"Instruction:\\n{example['instruction']}\\n\\n\"\n",
    "    if example['input']:\n",
    "        prompt += f\"Input:\\n{example['input']}\\n\\n\"\n",
    "    example[\"prompt\"] = prompt\n",
    "    return example\n",
    "\n",
    "data = data.map(create_prompt)\n",
    "\n",
    "tokenizer = AutoTokenizer.from_pretrained(\"mistralai/Mistral-7B-Instruct-v0.3\")\n",
    "tokenizer.pad_token = tokenizer.eos_token\n",
    "\n",
    "def tokenize_function(example):\n",
    "    return tokenizer(\n",
    "        example[\"prompt\"],\n",
    "        truncation=True,\n",
    "        padding=\"max_length\",\n",
    "        max_length=512\n",
    "    )\n",
    "\n",
    "tokenized_data = data.map(tokenize_function, batched=True)"
   ]
  },
  {
   "cell_type": "code",
   "execution_count": 6,
   "id": "51a7f421-0eb4-484d-a656-29a37e49060c",
   "metadata": {},
   "outputs": [],
   "source": [
    "#visualize chatbot"
   ]
  },
  {
   "cell_type": "code",
   "execution_count": 3,
   "id": "f58e4731-f711-499f-8305-7f34dd3a3ec6",
   "metadata": {},
   "outputs": [
    {
     "data": {
      "application/vnd.jupyter.widget-view+json": {
       "model_id": "db8d358ba6fd42869fe4599751e6708f",
       "version_major": 2,
       "version_minor": 0
      },
      "text/plain": [
       "Loading checkpoint shards:   0%|          | 0/3 [00:00<?, ?it/s]"
      ]
     },
     "metadata": {},
     "output_type": "display_data"
    },
    {
     "name": "stderr",
     "output_type": "stream",
     "text": [
      "Some parameters are on the meta device because they were offloaded to the cpu.\n"
     ]
    },
    {
     "name": "stdout",
     "output_type": "stream",
     "text": [
      "* Running on local URL:  http://127.0.0.1:7860\n",
      "* Running on public URL: https://70f33fea61bd72a6c1.gradio.live\n",
      "\n",
      "This share link expires in 1 week. For free permanent hosting and GPU upgrades, run `gradio deploy` from the terminal in the working directory to deploy to Hugging Face Spaces (https://huggingface.co/spaces)\n"
     ]
    },
    {
     "data": {
      "text/html": [
       "<div><iframe src=\"https://70f33fea61bd72a6c1.gradio.live\" width=\"100%\" height=\"500\" allow=\"autoplay; camera; microphone; clipboard-read; clipboard-write;\" frameborder=\"0\" allowfullscreen></iframe></div>"
      ],
      "text/plain": [
       "<IPython.core.display.HTML object>"
      ]
     },
     "metadata": {},
     "output_type": "display_data"
    },
    {
     "data": {
      "text/plain": []
     },
     "execution_count": 3,
     "metadata": {},
     "output_type": "execute_result"
    },
    {
     "name": "stderr",
     "output_type": "stream",
     "text": [
      "Setting `pad_token_id` to `eos_token_id`:2 for open-end generation.\n",
      "Setting `pad_token_id` to `eos_token_id`:2 for open-end generation.\n",
      "Setting `pad_token_id` to `eos_token_id`:2 for open-end generation.\n"
     ]
    }
   ],
   "source": [
    "import torch\n",
    "from transformers import AutoTokenizer, AutoModelForCausalLM\n",
    "import gradio as gr\n",
    "\n",
    "base_model_name = \"mistralai/Mistral-7B-Instruct-v0.3\"\n",
    "\n",
    "tokenizer = AutoTokenizer.from_pretrained(base_model_name)\n",
    "tokenizer.pad_token = tokenizer.eos_token\n",
    "\n",
    "model = AutoModelForCausalLM.from_pretrained(\n",
    "    base_model_name,\n",
    "    torch_dtype=torch.float16,\n",
    "    device_map=\"auto\"\n",
    ")\n",
    "def build_prompt(instruction, input_text=\"\"):\n",
    "    prompt = f\"Instruction:\\n{instruction.strip()}\\n\"\n",
    "    if input_text.strip():\n",
    "        prompt += f\"\\nInput:\\n{input_text.strip()}\\n\"\n",
    "    prompt += \"\\nResponse:\\n\"\n",
    "    return prompt\n",
    "\n",
    "def generate_text(instruction, input_text):\n",
    "    prompt = build_prompt(instruction, input_text)\n",
    "    inputs = tokenizer(prompt, return_tensors=\"pt\").to(model.device)\n",
    "    with torch.no_grad():\n",
    "        outputs = model.generate(\n",
    "            **inputs,\n",
    "            max_new_tokens=256,\n",
    "            temperature=0.7,\n",
    "            top_p=0.9,\n",
    "            repetition_penalty=1.1,\n",
    "            do_sample=True\n",
    "        )\n",
    "    # Only return the part after \"Response:\"\n",
    "    full_output = tokenizer.decode(outputs[0], skip_special_tokens=True)\n",
    "    return full_output.split(\"Response:\")[-1].strip()\n",
    "\n",
    "interface = gr.Interface(\n",
    "    fn=generate_text,\n",
    "    inputs=[\n",
    "        gr.Textbox(label=\"Instruction\", lines=2, placeholder=\"e.g. What is the best team in London?\"),\n",
    "        gr.Textbox(label=\"Input (optional)\", lines=2, placeholder=\"Add context if needed\"),\n",
    "    ],\n",
    "    outputs=gr.Textbox(label=\"Model Response\"),\n",
    "    title=\"Llama 3.2 1B Baseline Model\",\n",
    "    description=\"Interact with the baseline Mistral 7B model without fine-tuning.\"\n",
    ")\n",
    "\n",
    "interface.launch(share=True)"
   ]
  },
  {
   "cell_type": "code",
   "execution_count": 1,
   "id": "77d46b8a-adc5-49bf-bc83-aeddc8c75c52",
   "metadata": {},
   "outputs": [],
   "source": [
    "#evaluate baseline model"
   ]
  },
  {
   "cell_type": "code",
   "execution_count": 2,
   "id": "f285aba6-47d1-447b-b3d0-d0b297616873",
   "metadata": {},
   "outputs": [
    {
     "name": "stderr",
     "output_type": "stream",
     "text": [
      "2025-08-12 16:20:20.320538: I tensorflow/core/util/port.cc:153] oneDNN custom operations are on. You may see slightly different numerical results due to floating-point round-off errors from different computation orders. To turn them off, set the environment variable `TF_ENABLE_ONEDNN_OPTS=0`.\n",
      "2025-08-12 16:20:20.326314: E external/local_xla/xla/stream_executor/cuda/cuda_fft.cc:477] Unable to register cuFFT factory: Attempting to register factory for plugin cuFFT when one has already been registered\n",
      "WARNING: All log messages before absl::InitializeLog() is called are written to STDERR\n",
      "E0000 00:00:1754986820.333803 2284168 cuda_dnn.cc:8310] Unable to register cuDNN factory: Attempting to register factory for plugin cuDNN when one has already been registered\n",
      "E0000 00:00:1754986820.336267 2284168 cuda_blas.cc:1418] Unable to register cuBLAS factory: Attempting to register factory for plugin cuBLAS when one has already been registered\n",
      "2025-08-12 16:20:20.344474: I tensorflow/core/platform/cpu_feature_guard.cc:210] This TensorFlow binary is optimized to use available CPU instructions in performance-critical operations.\n",
      "To enable the following instructions: AVX2 AVX_VNNI FMA, in other operations, rebuild TensorFlow with the appropriate compiler flags.\n",
      "[nltk_data] Downloading package punkt to /home/user/nltk_data...\n",
      "[nltk_data]   Package punkt is already up-to-date!\n"
     ]
    },
    {
     "data": {
      "application/vnd.jupyter.widget-view+json": {
       "model_id": "f324a48ee46144559264a86d7258cfc1",
       "version_major": 2,
       "version_minor": 0
      },
      "text/plain": [
       "Loading checkpoint shards:   0%|          | 0/3 [00:00<?, ?it/s]"
      ]
     },
     "metadata": {},
     "output_type": "display_data"
    },
    {
     "name": "stderr",
     "output_type": "stream",
     "text": [
      "100%|███████████████████████████████████████████████████████████████████████████████████████████████████████████████████████████████████| 140/140 [09:07<00:00,  3.91s/it]\n"
     ]
    },
    {
     "name": "stdout",
     "output_type": "stream",
     "text": [
      "\n",
      "Macro F1 Score on validation set: 0.0216\n",
      "\n",
      "Calculating BERTScore...\n",
      "calculating scores...\n",
      "computing bert embedding.\n"
     ]
    },
    {
     "data": {
      "application/vnd.jupyter.widget-view+json": {
       "model_id": "43314530ff2a40b28889e0ee5c6a1d2b",
       "version_major": 2,
       "version_minor": 0
      },
      "text/plain": [
       "  0%|          | 0/5 [00:00<?, ?it/s]"
      ]
     },
     "metadata": {},
     "output_type": "display_data"
    },
    {
     "name": "stdout",
     "output_type": "stream",
     "text": [
      "computing greedy matching.\n"
     ]
    },
    {
     "data": {
      "application/vnd.jupyter.widget-view+json": {
       "model_id": "a105be1ec20940748df12012af37b86f",
       "version_major": 2,
       "version_minor": 0
      },
      "text/plain": [
       "  0%|          | 0/3 [00:00<?, ?it/s]"
      ]
     },
     "metadata": {},
     "output_type": "display_data"
    },
    {
     "name": "stdout",
     "output_type": "stream",
     "text": [
      "done in 0.63 seconds, 223.64 sentences/sec\n",
      "Average BERTScore F1 on validation set: 0.8503\n",
      "\n",
      "Calculating BLEU Score...\n",
      "Average BLEU Score on validation set: 0.0123\n",
      "\n",
      "Calculating ROUGE Scores...\n",
      "Average ROUGE-1 F1: 0.1169\n",
      "Average ROUGE-2 F1: 0.0210\n",
      "Average ROUGE-L F1: 0.0909\n"
     ]
    }
   ],
   "source": [
    "from sklearn.metrics import f1_score\n",
    "from sklearn.preprocessing import MultiLabelBinarizer\n",
    "from tqdm import tqdm\n",
    "import torch\n",
    "import logging\n",
    "from transformers import logging as hf_logging\n",
    "\n",
    "from transformers import AutoTokenizer, AutoModelForCausalLM\n",
    "from peft import PeftModel\n",
    "\n",
    "\n",
    "from nltk.translate.bleu_score import sentence_bleu, SmoothingFunction\n",
    "from rouge_score import rouge_scorer\n",
    "import nltk\n",
    "nltk.download('punkt')\n",
    "\n",
    "base_model = \"mistralai/Mistral-7B-Instruct-v0.3\"\n",
    "tokenizer = AutoTokenizer.from_pretrained(base_model)\n",
    "base = AutoModelForCausalLM.from_pretrained(base_model, torch_dtype=torch.float16, device_map=\"auto\")\n",
    "\n",
    "logging.getLogger().setLevel(logging.ERROR)\n",
    "hf_logging.set_verbosity_error()\n",
    "\n",
    "#evaluation\n",
    "true_answers = []\n",
    "predicted_answers = []\n",
    "\n",
    "for sample in tqdm(data[\"test\"]):\n",
    "    instruction = sample[\"instruction\"]\n",
    "    input_text = sample[\"input\"]\n",
    "    true_output = sample[\"output\"]\n",
    "\n",
    "    prompt = f\"Instruction:\\n{instruction.strip()}\\n\"\n",
    "    if input_text is not None and input_text.strip():\n",
    "        prompt += f\"\\nInput:\\n{input_text.strip()}\\n\"\n",
    "    prompt += \"\\nResponse:\\n\"\n",
    "\n",
    "    inputs = tokenizer(prompt, return_tensors=\"pt\").to(base.device)\n",
    "\n",
    "    with torch.no_grad():\n",
    "        output_ids = base.generate(\n",
    "            **inputs,\n",
    "            max_new_tokens=128,\n",
    "            temperature=0.7,\n",
    "            top_p=0.9,\n",
    "            repetition_penalty=1.1,\n",
    "            do_sample=False\n",
    "        )\n",
    "    generated_text = tokenizer.decode(output_ids[0], skip_special_tokens=True)\n",
    "    predicted_response = generated_text.split(\"Response:\")[-1].strip()\n",
    "\n",
    "    predicted_answers.append(predicted_response)\n",
    "    true_answers.append(true_output.strip())\n",
    "    \n",
    "#f1\n",
    "true_token_sets = [set(ans.lower().split()) for ans in true_answers]\n",
    "pred_token_sets = [set(ans.lower().split()) for ans in predicted_answers]\n",
    "\n",
    "all_tokens = list(set().union(*true_token_sets, *pred_token_sets))\n",
    "mlb = MultiLabelBinarizer(classes=all_tokens)\n",
    "y_true_bin = mlb.fit_transform(true_token_sets)\n",
    "y_pred_bin = mlb.transform(pred_token_sets)\n",
    "\n",
    "f1 = f1_score(y_true_bin, y_pred_bin, average=\"macro\")\n",
    "print(f\"\\nMacro F1 Score on validation set: {f1:.4f}\")\n",
    "\n",
    "#BERTScore\n",
    "from bert_score import score as bert_score\n",
    "print(\"\\nCalculating BERTScore...\")\n",
    "\n",
    "P = predicted_answers\n",
    "R = true_answers\n",
    "\n",
    "P_scores, R_scores, F1_scores = bert_score(P, R, lang='en', verbose=True)\n",
    "average_bert_f1 = F1_scores.mean().item()\n",
    "print(f\"Average BERTScore F1 on validation set: {average_bert_f1:.4f}\")\n",
    "\n",
    "#BLEU\n",
    "print(\"\\nCalculating BLEU Score...\")\n",
    "\n",
    "smoothie = SmoothingFunction().method4\n",
    "bleu_scores = []\n",
    "for ref, pred in zip(true_answers, predicted_answers):\n",
    "    ref_tokens = [nltk.word_tokenize(ref.lower())]\n",
    "    pred_tokens = nltk.word_tokenize(pred.lower())\n",
    "    score = sentence_bleu(ref_tokens, pred_tokens, smoothing_function=smoothie)\n",
    "    bleu_scores.append(score)\n",
    "\n",
    "average_bleu = sum(bleu_scores) / len(bleu_scores)\n",
    "print(f\"Average BLEU Score on validation set: {average_bleu:.4f}\")\n",
    "\n",
    "#ROUGE\n",
    "print(\"\\nCalculating ROUGE Scores...\")\n",
    "\n",
    "scorer = rouge_scorer.RougeScorer(['rouge1', 'rouge2', 'rougeL'], use_stemmer=True)\n",
    "rouge1_list, rouge2_list, rougeL_list = [], [], []\n",
    "\n",
    "for ref, pred in zip(true_answers, predicted_answers):\n",
    "    scores = scorer.score(ref, pred)\n",
    "    rouge1_list.append(scores['rouge1'].fmeasure)\n",
    "    rouge2_list.append(scores['rouge2'].fmeasure)\n",
    "    rougeL_list.append(scores['rougeL'].fmeasure)\n",
    "\n",
    "avg_rouge1 = sum(rouge1_list) / len(rouge1_list)\n",
    "avg_rouge2 = sum(rouge2_list) / len(rouge2_list)\n",
    "avg_rougeL = sum(rougeL_list) / len(rougeL_list)\n",
    "\n",
    "print(f\"Average ROUGE-1 F1: {avg_rouge1:.4f}\")\n",
    "print(f\"Average ROUGE-2 F1: {avg_rouge2:.4f}\")\n",
    "print(f\"Average ROUGE-L F1: {avg_rougeL:.4f}\")"
   ]
  },
  {
   "cell_type": "code",
   "execution_count": null,
   "id": "b3bdb2d6-aa2f-4c84-942f-43f8b157e51b",
   "metadata": {},
   "outputs": [],
   "source": []
  }
 ],
 "metadata": {
  "kernelspec": {
   "display_name": "Python 3 (ipykernel)",
   "language": "python",
   "name": "python3"
  },
  "language_info": {
   "codemirror_mode": {
    "name": "ipython",
    "version": 3
   },
   "file_extension": ".py",
   "mimetype": "text/x-python",
   "name": "python",
   "nbconvert_exporter": "python",
   "pygments_lexer": "ipython3",
   "version": "3.11.2"
  }
 },
 "nbformat": 4,
 "nbformat_minor": 5
}
