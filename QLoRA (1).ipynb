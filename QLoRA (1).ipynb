{
 "cells": [
  {
   "cell_type": "code",
   "execution_count": null,
   "id": "938fc66b-1452-4f38-a2a7-10f3ad7cabef",
   "metadata": {},
   "outputs": [],
   "source": [
    "!pip install wandb -q\n",
    "import wandb\n",
    "wandb.login()"
   ]
  },
  {
   "cell_type": "code",
   "execution_count": 4,
   "id": "71dde2bd-0c95-4652-9650-b89fb04e5f96",
   "metadata": {},
   "outputs": [
    {
     "name": "stdout",
     "output_type": "stream",
     "text": [
      "0.46.0\n"
     ]
    }
   ],
   "source": [
    "import bitsandbytes as bnb\n",
    "print(bnb.__version__)  # Should be 0.41.3"
   ]
  },
  {
   "cell_type": "code",
   "execution_count": 1,
   "id": "1e3e067c-5408-4a20-9502-7c90edd9662d",
   "metadata": {},
   "outputs": [
    {
     "name": "stderr",
     "output_type": "stream",
     "text": [
      "\u001b[34m\u001b[1mwandb\u001b[0m: Currently logged in as: \u001b[33mahmadhakimiadnan\u001b[0m (\u001b[33mahmadhakimiadnan-other\u001b[0m) to \u001b[32mhttps://api.wandb.ai\u001b[0m. Use \u001b[1m`wandb login --relogin`\u001b[0m to force relogin\n"
     ]
    },
    {
     "data": {
      "text/html": [
       "Tracking run with wandb version 0.21.1"
      ],
      "text/plain": [
       "<IPython.core.display.HTML object>"
      ]
     },
     "metadata": {},
     "output_type": "display_data"
    },
    {
     "data": {
      "text/html": [
       "Run data is saved locally in <code>/home/user/jupyter/project internship -kimi/FineTuneLlama3.21B/wandb/run-20250818_144937-nvinl3io</code>"
      ],
      "text/plain": [
       "<IPython.core.display.HTML object>"
      ]
     },
     "metadata": {},
     "output_type": "display_data"
    },
    {
     "data": {
      "text/html": [
       "Syncing run <strong><a href='https://wandb.ai/ahmadhakimiadnan-other/fine-tuning-llms/runs/nvinl3io' target=\"_blank\">pretty-oath-91</a></strong> to <a href='https://wandb.ai/ahmadhakimiadnan-other/fine-tuning-llms' target=\"_blank\">Weights & Biases</a> (<a href='https://wandb.me/developer-guide' target=\"_blank\">docs</a>)<br>"
      ],
      "text/plain": [
       "<IPython.core.display.HTML object>"
      ]
     },
     "metadata": {},
     "output_type": "display_data"
    },
    {
     "data": {
      "text/html": [
       " View project at <a href='https://wandb.ai/ahmadhakimiadnan-other/fine-tuning-llms' target=\"_blank\">https://wandb.ai/ahmadhakimiadnan-other/fine-tuning-llms</a>"
      ],
      "text/plain": [
       "<IPython.core.display.HTML object>"
      ]
     },
     "metadata": {},
     "output_type": "display_data"
    },
    {
     "data": {
      "text/html": [
       " View run at <a href='https://wandb.ai/ahmadhakimiadnan-other/fine-tuning-llms/runs/nvinl3io' target=\"_blank\">https://wandb.ai/ahmadhakimiadnan-other/fine-tuning-llms/runs/nvinl3io</a>"
      ],
      "text/plain": [
       "<IPython.core.display.HTML object>"
      ]
     },
     "metadata": {},
     "output_type": "display_data"
    },
    {
     "name": "stdout",
     "output_type": "stream",
     "text": [
      "Available devices: 2 GPUs\n",
      "Current device: 0\n"
     ]
    },
    {
     "name": "stderr",
     "output_type": "stream",
     "text": [
      "2025-08-18 14:49:40.413554: I tensorflow/core/util/port.cc:153] oneDNN custom operations are on. You may see slightly different numerical results due to floating-point round-off errors from different computation orders. To turn them off, set the environment variable `TF_ENABLE_ONEDNN_OPTS=0`.\n",
      "2025-08-18 14:49:40.725398: E external/local_xla/xla/stream_executor/cuda/cuda_fft.cc:477] Unable to register cuFFT factory: Attempting to register factory for plugin cuFFT when one has already been registered\n",
      "WARNING: All log messages before absl::InitializeLog() is called are written to STDERR\n",
      "E0000 00:00:1755499780.867599 2872281 cuda_dnn.cc:8310] Unable to register cuDNN factory: Attempting to register factory for plugin cuDNN when one has already been registered\n",
      "E0000 00:00:1755499780.900294 2872281 cuda_blas.cc:1418] Unable to register cuBLAS factory: Attempting to register factory for plugin cuBLAS when one has already been registered\n",
      "2025-08-18 14:49:41.164059: I tensorflow/core/platform/cpu_feature_guard.cc:210] This TensorFlow binary is optimized to use available CPU instructions in performance-critical operations.\n",
      "To enable the following instructions: AVX2 AVX_VNNI FMA, in other operations, rebuild TensorFlow with the appropriate compiler flags.\n"
     ]
    },
    {
     "name": "stdout",
     "output_type": "stream",
     "text": [
      "model is loaded\n"
     ]
    }
   ],
   "source": [
    "import os\n",
    "import torch\n",
    "import torch.nn as nn\n",
    "import bitsandbytes as bnb\n",
    "from transformers import AutoTokenizer, AutoConfig, AutoModelForCausalLM, BitsAndBytesConfig\n",
    "import wandb\n",
    "\n",
    "wandb.init(project=\"fine-tuning-llms\")\n",
    "\n",
    "#available device\n",
    "print(f\"Available devices: {torch.cuda.device_count()} GPUs\")\n",
    "print(f\"Current device: {torch.cuda.current_device()}\")\n",
    "\n",
    "bnb_config = BitsAndBytesConfig(\n",
    "    load_in_8bit=True,\n",
    ")\n",
    "\n",
    "model = AutoModelForCausalLM.from_pretrained(\n",
    "    \"meta-llama/Llama-3.2-1B\",\n",
    "    quantization_config=bnb_config,\n",
    "    device_map=\"auto\",  \n",
    "    torch_dtype=torch.bfloat16\n",
    ")\n",
    "\n",
    "tokenizer = AutoTokenizer.from_pretrained(\"meta-llama/Llama-3.2-1B\")\n",
    "tokenizer.pad_token = tokenizer.eos_token\n",
    "print(\"model is loaded\")"
   ]
  },
  {
   "cell_type": "code",
   "execution_count": 2,
   "id": "f639d3c6-639c-48a7-9abf-4dc25be51c23",
   "metadata": {},
   "outputs": [
    {
     "name": "stdout",
     "output_type": "stream",
     "text": [
      "trainable params: 0  all params: 1235814400  trainable%: 0.0\n"
     ]
    }
   ],
   "source": [
    "for param in model.parameters():\n",
    "    param.requires_grad = False\n",
    "    if param.ndim == 1:\n",
    "        param.data = param.data.to(torch.float32)\n",
    "\n",
    "model.gradient_checkpointing_enable()\n",
    "model.enable_input_require_grads()\n",
    "\n",
    "class CastOutputToFloat(nn.Sequential):\n",
    "    def forward(self, x):\n",
    "        return super().forward(x.to(torch.bfloat16)).to(torch.float32)\n",
    "\n",
    "model.lm_head = CastOutputToFloat(model.lm_head)\n",
    "\n",
    "def print_trainable_parameters(model):\n",
    "    trainable_params = 0\n",
    "    all_param = 0\n",
    "    for _, param in model.named_parameters():\n",
    "        all_param += param.numel()\n",
    "        if param.requires_grad:\n",
    "            trainable_params += param.numel()\n",
    "    print(f\"trainable params: {trainable_params}  all params: {all_param}  trainable%: {100 * trainable_params / all_param}\")\n",
    "    wandb.log({\n",
    "        \"trainable_params\": trainable_params,\n",
    "        \"total_params\": all_param,\n",
    "        \"trainable_percentage\": 100 * trainable_params / all_param\n",
    "    })\n",
    "    \n",
    "print_trainable_parameters(model)"
   ]
  },
  {
   "cell_type": "code",
   "execution_count": 3,
   "id": "56d515df-f0bc-4138-97ad-d0c366267034",
   "metadata": {
    "scrolled": true
   },
   "outputs": [
    {
     "name": "stdout",
     "output_type": "stream",
     "text": [
      "model.layers.0.self_attn\n",
      "  - \n",
      "  - q_proj\n",
      "  - k_proj\n",
      "  - v_proj\n",
      "  - o_proj\n",
      "model.layers.0.self_attn.q_proj\n",
      "  - \n",
      "model.layers.0.self_attn.k_proj\n",
      "  - \n",
      "model.layers.0.self_attn.v_proj\n",
      "  - \n",
      "model.layers.0.self_attn.o_proj\n",
      "  - \n",
      "model.layers.0.post_attention_layernorm\n",
      "  - \n",
      "model.layers.1.self_attn\n",
      "  - \n",
      "  - q_proj\n",
      "  - k_proj\n",
      "  - v_proj\n",
      "  - o_proj\n",
      "model.layers.1.self_attn.q_proj\n",
      "  - \n",
      "model.layers.1.self_attn.k_proj\n",
      "  - \n",
      "model.layers.1.self_attn.v_proj\n",
      "  - \n",
      "model.layers.1.self_attn.o_proj\n",
      "  - \n",
      "model.layers.1.post_attention_layernorm\n",
      "  - \n",
      "model.layers.2.self_attn\n",
      "  - \n",
      "  - q_proj\n",
      "  - k_proj\n",
      "  - v_proj\n",
      "  - o_proj\n",
      "model.layers.2.self_attn.q_proj\n",
      "  - \n",
      "model.layers.2.self_attn.k_proj\n",
      "  - \n",
      "model.layers.2.self_attn.v_proj\n",
      "  - \n",
      "model.layers.2.self_attn.o_proj\n",
      "  - \n",
      "model.layers.2.post_attention_layernorm\n",
      "  - \n",
      "model.layers.3.self_attn\n",
      "  - \n",
      "  - q_proj\n",
      "  - k_proj\n",
      "  - v_proj\n",
      "  - o_proj\n",
      "model.layers.3.self_attn.q_proj\n",
      "  - \n",
      "model.layers.3.self_attn.k_proj\n",
      "  - \n",
      "model.layers.3.self_attn.v_proj\n",
      "  - \n",
      "model.layers.3.self_attn.o_proj\n",
      "  - \n",
      "model.layers.3.post_attention_layernorm\n",
      "  - \n",
      "model.layers.4.self_attn\n",
      "  - \n",
      "  - q_proj\n",
      "  - k_proj\n",
      "  - v_proj\n",
      "  - o_proj\n",
      "model.layers.4.self_attn.q_proj\n",
      "  - \n",
      "model.layers.4.self_attn.k_proj\n",
      "  - \n",
      "model.layers.4.self_attn.v_proj\n",
      "  - \n",
      "model.layers.4.self_attn.o_proj\n",
      "  - \n",
      "model.layers.4.post_attention_layernorm\n",
      "  - \n",
      "model.layers.5.self_attn\n",
      "  - \n",
      "  - q_proj\n",
      "  - k_proj\n",
      "  - v_proj\n",
      "  - o_proj\n",
      "model.layers.5.self_attn.q_proj\n",
      "  - \n",
      "model.layers.5.self_attn.k_proj\n",
      "  - \n",
      "model.layers.5.self_attn.v_proj\n",
      "  - \n",
      "model.layers.5.self_attn.o_proj\n",
      "  - \n",
      "model.layers.5.post_attention_layernorm\n",
      "  - \n",
      "model.layers.6.self_attn\n",
      "  - \n",
      "  - q_proj\n",
      "  - k_proj\n",
      "  - v_proj\n",
      "  - o_proj\n",
      "model.layers.6.self_attn.q_proj\n",
      "  - \n",
      "model.layers.6.self_attn.k_proj\n",
      "  - \n",
      "model.layers.6.self_attn.v_proj\n",
      "  - \n",
      "model.layers.6.self_attn.o_proj\n",
      "  - \n",
      "model.layers.6.post_attention_layernorm\n",
      "  - \n",
      "model.layers.7.self_attn\n",
      "  - \n",
      "  - q_proj\n",
      "  - k_proj\n",
      "  - v_proj\n",
      "  - o_proj\n",
      "model.layers.7.self_attn.q_proj\n",
      "  - \n",
      "model.layers.7.self_attn.k_proj\n",
      "  - \n",
      "model.layers.7.self_attn.v_proj\n",
      "  - \n",
      "model.layers.7.self_attn.o_proj\n",
      "  - \n",
      "model.layers.7.post_attention_layernorm\n",
      "  - \n",
      "model.layers.8.self_attn\n",
      "  - \n",
      "  - q_proj\n",
      "  - k_proj\n",
      "  - v_proj\n",
      "  - o_proj\n",
      "model.layers.8.self_attn.q_proj\n",
      "  - \n",
      "model.layers.8.self_attn.k_proj\n",
      "  - \n",
      "model.layers.8.self_attn.v_proj\n",
      "  - \n",
      "model.layers.8.self_attn.o_proj\n",
      "  - \n",
      "model.layers.8.post_attention_layernorm\n",
      "  - \n",
      "model.layers.9.self_attn\n",
      "  - \n",
      "  - q_proj\n",
      "  - k_proj\n",
      "  - v_proj\n",
      "  - o_proj\n",
      "model.layers.9.self_attn.q_proj\n",
      "  - \n",
      "model.layers.9.self_attn.k_proj\n",
      "  - \n",
      "model.layers.9.self_attn.v_proj\n",
      "  - \n",
      "model.layers.9.self_attn.o_proj\n",
      "  - \n",
      "model.layers.9.post_attention_layernorm\n",
      "  - \n",
      "model.layers.10.self_attn\n",
      "  - \n",
      "  - q_proj\n",
      "  - k_proj\n",
      "  - v_proj\n",
      "  - o_proj\n",
      "model.layers.10.self_attn.q_proj\n",
      "  - \n",
      "model.layers.10.self_attn.k_proj\n",
      "  - \n",
      "model.layers.10.self_attn.v_proj\n",
      "  - \n",
      "model.layers.10.self_attn.o_proj\n",
      "  - \n",
      "model.layers.10.post_attention_layernorm\n",
      "  - \n",
      "model.layers.11.self_attn\n",
      "  - \n",
      "  - q_proj\n",
      "  - k_proj\n",
      "  - v_proj\n",
      "  - o_proj\n",
      "model.layers.11.self_attn.q_proj\n",
      "  - \n",
      "model.layers.11.self_attn.k_proj\n",
      "  - \n",
      "model.layers.11.self_attn.v_proj\n",
      "  - \n",
      "model.layers.11.self_attn.o_proj\n",
      "  - \n",
      "model.layers.11.post_attention_layernorm\n",
      "  - \n",
      "model.layers.12.self_attn\n",
      "  - \n",
      "  - q_proj\n",
      "  - k_proj\n",
      "  - v_proj\n",
      "  - o_proj\n",
      "model.layers.12.self_attn.q_proj\n",
      "  - \n",
      "model.layers.12.self_attn.k_proj\n",
      "  - \n",
      "model.layers.12.self_attn.v_proj\n",
      "  - \n",
      "model.layers.12.self_attn.o_proj\n",
      "  - \n",
      "model.layers.12.post_attention_layernorm\n",
      "  - \n",
      "model.layers.13.self_attn\n",
      "  - \n",
      "  - q_proj\n",
      "  - k_proj\n",
      "  - v_proj\n",
      "  - o_proj\n",
      "model.layers.13.self_attn.q_proj\n",
      "  - \n",
      "model.layers.13.self_attn.k_proj\n",
      "  - \n",
      "model.layers.13.self_attn.v_proj\n",
      "  - \n",
      "model.layers.13.self_attn.o_proj\n",
      "  - \n",
      "model.layers.13.post_attention_layernorm\n",
      "  - \n",
      "model.layers.14.self_attn\n",
      "  - \n",
      "  - q_proj\n",
      "  - k_proj\n",
      "  - v_proj\n",
      "  - o_proj\n",
      "model.layers.14.self_attn.q_proj\n",
      "  - \n",
      "model.layers.14.self_attn.k_proj\n",
      "  - \n",
      "model.layers.14.self_attn.v_proj\n",
      "  - \n",
      "model.layers.14.self_attn.o_proj\n",
      "  - \n",
      "model.layers.14.post_attention_layernorm\n",
      "  - \n",
      "model.layers.15.self_attn\n",
      "  - \n",
      "  - q_proj\n",
      "  - k_proj\n",
      "  - v_proj\n",
      "  - o_proj\n",
      "model.layers.15.self_attn.q_proj\n",
      "  - \n",
      "model.layers.15.self_attn.k_proj\n",
      "  - \n",
      "model.layers.15.self_attn.v_proj\n",
      "  - \n",
      "model.layers.15.self_attn.o_proj\n",
      "  - \n",
      "model.layers.15.post_attention_layernorm\n",
      "  - \n"
     ]
    }
   ],
   "source": [
    "#check layers in the model\n",
    "for name, module in model.named_modules():\n",
    "    if 'attn' in name or 'attention' in name:\n",
    "        print(name)\n",
    "        for sub_name, sub_module in module.named_modules():\n",
    "            print(f\"  - {sub_name}\")"
   ]
  },
  {
   "cell_type": "code",
   "execution_count": 4,
   "id": "f2ce9b3a-7663-418a-b578-1ae976085379",
   "metadata": {},
   "outputs": [
    {
     "name": "stdout",
     "output_type": "stream",
     "text": [
      "trainable params: 1703936  all params: 1237518336  trainable%: 0.13768975783482856\n"
     ]
    }
   ],
   "source": [
    "from peft import LoraConfig, get_peft_model\n",
    "\n",
    "config = LoraConfig(\n",
    "    r = 8,\n",
    "    lora_alpha = 16,\n",
    "    target_modules = [\"q_proj\",\"k_proj\", \"v_proj\", \"o_proj\"],\n",
    "    lora_dropout = 0.05,\n",
    "    bias = \"none\",\n",
    "    task_type = \"CAUSAL_LM\"\n",
    ")\n",
    "\n",
    "lora_model = get_peft_model(model, config)\n",
    "print_trainable_parameters(lora_model)"
   ]
  },
  {
   "cell_type": "code",
   "execution_count": 1,
   "id": "4a98072c-e73a-40c4-8384-c9ba6006ec6c",
   "metadata": {},
   "outputs": [],
   "source": [
    "import pandas as pd\n",
    "from datasets import Dataset, DatasetDict\n",
    "from sklearn.model_selection import train_test_split\n",
    "\n",
    "df = pd.read_csv(\"CMNEE.csv\")\n",
    "df = df[df['instruction'].notnull() & df['new_output'].notnull()]\n",
    "\n",
    "if 'input' not in df.columns:\n",
    "    df['input'] = ''\n",
    "\n",
    "#split\n",
    "train_df, val_df = train_test_split(df, test_size=0.15, random_state=42)\n",
    "\n",
    "#HF DatasetDict\n",
    "data = DatasetDict({\n",
    "    \"train\": Dataset.from_pandas(train_df, preserve_index=False),\n",
    "    \"validation\": Dataset.from_pandas(val_df, preserve_index=False),\n",
    "    \"test\": Dataset.from_pandas(val_df.copy(), preserve_index=False)\n",
    "})"
   ]
  },
  {
   "cell_type": "code",
   "execution_count": 2,
   "id": "48ebf69e-7f82-4cab-9b94-53aa7528cda6",
   "metadata": {},
   "outputs": [
    {
     "data": {
      "application/vnd.jupyter.widget-view+json": {
       "model_id": "a6300e0271b54849b77b90597d6abcfa",
       "version_major": 2,
       "version_minor": 0
      },
      "text/plain": [
       "Map:   0%|          | 0/2547 [00:00<?, ? examples/s]"
      ]
     },
     "metadata": {},
     "output_type": "display_data"
    },
    {
     "data": {
      "application/vnd.jupyter.widget-view+json": {
       "model_id": "f90676e5f957405290e0384b04822951",
       "version_major": 2,
       "version_minor": 0
      },
      "text/plain": [
       "Map:   0%|          | 0/450 [00:00<?, ? examples/s]"
      ]
     },
     "metadata": {},
     "output_type": "display_data"
    },
    {
     "data": {
      "application/vnd.jupyter.widget-view+json": {
       "model_id": "650cbf2ca6f04370b42bcfe2abb9aeaa",
       "version_major": 2,
       "version_minor": 0
      },
      "text/plain": [
       "Map:   0%|          | 0/450 [00:00<?, ? examples/s]"
      ]
     },
     "metadata": {},
     "output_type": "display_data"
    }
   ],
   "source": [
    "#prompt\n",
    "def create_prompt(example):\n",
    "    prompt = f\"Instruction:\\n{example['instruction']}\\n\\n\"\n",
    "    if example['input']:\n",
    "        prompt += f\"Input:\\n{example['input']}\\n\\n\"\n",
    "    prompt += f\"Response:\\n{example['new_output']}\"\n",
    "    example[\"prompt\"] = prompt\n",
    "    return example\n",
    "\n",
    "data = data.map(create_prompt)"
   ]
  },
  {
   "cell_type": "code",
   "execution_count": 3,
   "id": "583161dc-e856-476d-838b-fe8264bb79e9",
   "metadata": {},
   "outputs": [
    {
     "data": {
      "application/vnd.jupyter.widget-view+json": {
       "model_id": "60259c873f4f44dfa37638790fd2066c",
       "version_major": 2,
       "version_minor": 0
      },
      "text/plain": [
       "Map:   0%|          | 0/2547 [00:00<?, ? examples/s]"
      ]
     },
     "metadata": {},
     "output_type": "display_data"
    },
    {
     "data": {
      "application/vnd.jupyter.widget-view+json": {
       "model_id": "d6b62539a1e046b4aff64959bad18c0e",
       "version_major": 2,
       "version_minor": 0
      },
      "text/plain": [
       "Map:   0%|          | 0/450 [00:00<?, ? examples/s]"
      ]
     },
     "metadata": {},
     "output_type": "display_data"
    },
    {
     "data": {
      "application/vnd.jupyter.widget-view+json": {
       "model_id": "e9d9526cf4a9469b8e73db46e3924229",
       "version_major": 2,
       "version_minor": 0
      },
      "text/plain": [
       "Map:   0%|          | 0/450 [00:00<?, ? examples/s]"
      ]
     },
     "metadata": {},
     "output_type": "display_data"
    },
    {
     "name": "stdout",
     "output_type": "stream",
     "text": [
      "DatasetDict({\n",
      "    train: Dataset({\n",
      "        features: ['instruction', 'input', 'output', 'new_output', 'prompt', 'input_ids', 'attention_mask', 'labels'],\n",
      "        num_rows: 2547\n",
      "    })\n",
      "    validation: Dataset({\n",
      "        features: ['instruction', 'input', 'output', 'new_output', 'prompt', 'input_ids', 'attention_mask', 'labels'],\n",
      "        num_rows: 450\n",
      "    })\n",
      "    test: Dataset({\n",
      "        features: ['instruction', 'input', 'output', 'new_output', 'prompt', 'input_ids', 'attention_mask', 'labels'],\n",
      "        num_rows: 450\n",
      "    })\n",
      "})\n"
     ]
    }
   ],
   "source": [
    "from transformers import AutoTokenizer\n",
    "#tokenization\n",
    "tokenizer = AutoTokenizer.from_pretrained(\"meta-llama/Llama-3.2-1B\")\n",
    "tokenizer.pad_token = tokenizer.eos_token\n",
    "\n",
    "def tokenize_function(example):\n",
    "    tokens = tokenizer(\n",
    "        example[\"prompt\"],\n",
    "        truncation=True,\n",
    "        padding=\"max_length\",\n",
    "        max_length=512\n",
    "    )\n",
    "    tokens[\"labels\"] = tokens[\"input_ids\"].copy()\n",
    "    return tokens\n",
    "\n",
    "tokenized_data = data.map(tokenize_function, batched=True)\n",
    "print(tokenized_data)"
   ]
  },
  {
   "cell_type": "code",
   "execution_count": 9,
   "id": "02bdac5a-15ec-4eb6-8db8-99bdabf2b102",
   "metadata": {},
   "outputs": [],
   "source": [
    "from datetime import datetime\n",
    "import transformers\n",
    "import os\n",
    "\n",
    "base_model_name = \"Llama3.21B\"\n",
    "run_name = \"QLoRA\"\n",
    "output_dir = \"./\" + run_name\n",
    "\n",
    "#training Arguments with Efficient Checkpoint Management\n",
    "training_args = transformers.TrainingArguments(\n",
    "    per_device_train_batch_size=2,\n",
    "    num_train_epochs=5,\n",
    "    gradient_accumulation_steps=4,\n",
    "    optim=\"paged_adamw_8bit\",\n",
    "    warmup_steps=100,\n",
    "    learning_rate=5e-4,\n",
    "    fp16=True,\n",
    "    logging_steps=10,\n",
    "    output_dir=output_dir,\n",
    "    logging_dir=\"./logs\",\n",
    "    save_strategy=\"steps\",\n",
    "    save_steps=50,\n",
    "    save_total_limit=1,\n",
    "    eval_strategy=\"steps\",\n",
    "    eval_steps=50,\n",
    "    do_eval=True,\n",
    "    report_to='wandb',\n",
    "    run_name=f\"{run_name}-{datetime.now().strftime('%Y-%m-%d-%H-%M')}\"\n",
    ")\n",
    "\n",
    "#custom Callback to Clean Up Old Checkpoints\n",
    "class CleanupCallback(transformers.TrainerCallback):\n",
    "    def on_save(self, args, state, control, **kwargs):\n",
    "        # Keep only the 3 most recent checkpoints (adjust as needed)\n",
    "        checkpoints = []\n",
    "        for entry in os.listdir(args.output_dir):\n",
    "            if entry.startswith(\"checkpoint-\"):\n",
    "                checkpoints.append(entry)\n",
    "        checkpoints.sort(key=lambda x: int(x.split(\"-\")[1]))\n",
    "        \n",
    "        # Delete all but the newest checkpoint\n",
    "        for checkpoint in checkpoints[:-1]:\n",
    "            os.system(f\"rm -rf {os.path.join(args.output_dir, checkpoint)}\")\n",
    "\n",
    "trainer = transformers.Trainer(\n",
    "    model=lora_model,\n",
    "    train_dataset=tokenized_data[\"train\"],\n",
    "    eval_dataset=tokenized_data[\"validation\"],\n",
    "    args=training_args,\n",
    "    data_collator=transformers.DataCollatorForLanguageModeling(tokenizer, mlm=False),\n",
    "    callbacks=[CleanupCallback()]  \n",
    ")\n",
    "\n",
    "model.config.use_cache = False\n",
    "torch.backends.cuda.enable_flash_sdp(True)"
   ]
  },
  {
   "cell_type": "code",
   "execution_count": 10,
   "id": "c4d89368-91d7-4f37-abf9-e717eacb0b91",
   "metadata": {},
   "outputs": [
    {
     "name": "stderr",
     "output_type": "stream",
     "text": [
      "/home/user/env/jupyter/lib/python3.11/site-packages/bitsandbytes/autograd/_functions.py:185: UserWarning: MatMul8bitLt: inputs will be cast from torch.float32 to float16 during quantization\n",
      "  warnings.warn(f\"MatMul8bitLt: inputs will be cast from {A.dtype} to float16 during quantization\")\n"
     ]
    },
    {
     "data": {
      "text/html": [
       "\n",
       "    <div>\n",
       "      \n",
       "      <progress value='1595' max='1595' style='width:300px; height:20px; vertical-align: middle;'></progress>\n",
       "      [1595/1595 58:29, Epoch 5/5]\n",
       "    </div>\n",
       "    <table border=\"1\" class=\"dataframe\">\n",
       "  <thead>\n",
       " <tr style=\"text-align: left;\">\n",
       "      <th>Step</th>\n",
       "      <th>Training Loss</th>\n",
       "      <th>Validation Loss</th>\n",
       "    </tr>\n",
       "  </thead>\n",
       "  <tbody>\n",
       "    <tr>\n",
       "      <td>50</td>\n",
       "      <td>2.617400</td>\n",
       "      <td>2.633122</td>\n",
       "    </tr>\n",
       "    <tr>\n",
       "      <td>100</td>\n",
       "      <td>2.588300</td>\n",
       "      <td>2.563577</td>\n",
       "    </tr>\n",
       "    <tr>\n",
       "      <td>150</td>\n",
       "      <td>2.359600</td>\n",
       "      <td>2.504073</td>\n",
       "    </tr>\n",
       "    <tr>\n",
       "      <td>200</td>\n",
       "      <td>2.467000</td>\n",
       "      <td>2.450789</td>\n",
       "    </tr>\n",
       "    <tr>\n",
       "      <td>250</td>\n",
       "      <td>2.389900</td>\n",
       "      <td>2.402180</td>\n",
       "    </tr>\n",
       "    <tr>\n",
       "      <td>300</td>\n",
       "      <td>2.300000</td>\n",
       "      <td>2.320845</td>\n",
       "    </tr>\n",
       "    <tr>\n",
       "      <td>350</td>\n",
       "      <td>2.024600</td>\n",
       "      <td>2.253735</td>\n",
       "    </tr>\n",
       "    <tr>\n",
       "      <td>400</td>\n",
       "      <td>1.967600</td>\n",
       "      <td>2.204933</td>\n",
       "    </tr>\n",
       "    <tr>\n",
       "      <td>450</td>\n",
       "      <td>1.974000</td>\n",
       "      <td>2.160365</td>\n",
       "    </tr>\n",
       "    <tr>\n",
       "      <td>500</td>\n",
       "      <td>2.013000</td>\n",
       "      <td>2.123044</td>\n",
       "    </tr>\n",
       "    <tr>\n",
       "      <td>550</td>\n",
       "      <td>1.979100</td>\n",
       "      <td>2.070080</td>\n",
       "    </tr>\n",
       "    <tr>\n",
       "      <td>600</td>\n",
       "      <td>1.940100</td>\n",
       "      <td>2.016514</td>\n",
       "    </tr>\n",
       "    <tr>\n",
       "      <td>650</td>\n",
       "      <td>1.766900</td>\n",
       "      <td>1.988685</td>\n",
       "    </tr>\n",
       "    <tr>\n",
       "      <td>700</td>\n",
       "      <td>1.602800</td>\n",
       "      <td>1.952347</td>\n",
       "    </tr>\n",
       "    <tr>\n",
       "      <td>750</td>\n",
       "      <td>1.583200</td>\n",
       "      <td>1.908639</td>\n",
       "    </tr>\n",
       "    <tr>\n",
       "      <td>800</td>\n",
       "      <td>1.637100</td>\n",
       "      <td>1.858313</td>\n",
       "    </tr>\n",
       "    <tr>\n",
       "      <td>850</td>\n",
       "      <td>1.541800</td>\n",
       "      <td>1.820973</td>\n",
       "    </tr>\n",
       "    <tr>\n",
       "      <td>900</td>\n",
       "      <td>1.521000</td>\n",
       "      <td>1.793907</td>\n",
       "    </tr>\n",
       "    <tr>\n",
       "      <td>950</td>\n",
       "      <td>1.495600</td>\n",
       "      <td>1.762380</td>\n",
       "    </tr>\n",
       "    <tr>\n",
       "      <td>1000</td>\n",
       "      <td>1.384400</td>\n",
       "      <td>1.737016</td>\n",
       "    </tr>\n",
       "    <tr>\n",
       "      <td>1050</td>\n",
       "      <td>1.333400</td>\n",
       "      <td>1.700961</td>\n",
       "    </tr>\n",
       "    <tr>\n",
       "      <td>1100</td>\n",
       "      <td>1.306200</td>\n",
       "      <td>1.676934</td>\n",
       "    </tr>\n",
       "    <tr>\n",
       "      <td>1150</td>\n",
       "      <td>1.270900</td>\n",
       "      <td>1.646866</td>\n",
       "    </tr>\n",
       "    <tr>\n",
       "      <td>1200</td>\n",
       "      <td>1.331400</td>\n",
       "      <td>1.620369</td>\n",
       "    </tr>\n",
       "    <tr>\n",
       "      <td>1250</td>\n",
       "      <td>1.181500</td>\n",
       "      <td>1.604487</td>\n",
       "    </tr>\n",
       "    <tr>\n",
       "      <td>1300</td>\n",
       "      <td>1.167100</td>\n",
       "      <td>1.585431</td>\n",
       "    </tr>\n",
       "    <tr>\n",
       "      <td>1350</td>\n",
       "      <td>1.088500</td>\n",
       "      <td>1.569717</td>\n",
       "    </tr>\n",
       "    <tr>\n",
       "      <td>1400</td>\n",
       "      <td>1.050600</td>\n",
       "      <td>1.552880</td>\n",
       "    </tr>\n",
       "    <tr>\n",
       "      <td>1450</td>\n",
       "      <td>1.184500</td>\n",
       "      <td>1.538102</td>\n",
       "    </tr>\n",
       "    <tr>\n",
       "      <td>1500</td>\n",
       "      <td>1.094700</td>\n",
       "      <td>1.527636</td>\n",
       "    </tr>\n",
       "    <tr>\n",
       "      <td>1550</td>\n",
       "      <td>0.951500</td>\n",
       "      <td>1.518803</td>\n",
       "    </tr>\n",
       "  </tbody>\n",
       "</table><p>"
      ],
      "text/plain": [
       "<IPython.core.display.HTML object>"
      ]
     },
     "metadata": {},
     "output_type": "display_data"
    },
    {
     "name": "stderr",
     "output_type": "stream",
     "text": [
      "/home/user/env/jupyter/lib/python3.11/site-packages/bitsandbytes/autograd/_functions.py:185: UserWarning: MatMul8bitLt: inputs will be cast from torch.float32 to float16 during quantization\n",
      "  warnings.warn(f\"MatMul8bitLt: inputs will be cast from {A.dtype} to float16 during quantization\")\n",
      "/home/user/env/jupyter/lib/python3.11/site-packages/bitsandbytes/autograd/_functions.py:185: UserWarning: MatMul8bitLt: inputs will be cast from torch.float32 to float16 during quantization\n",
      "  warnings.warn(f\"MatMul8bitLt: inputs will be cast from {A.dtype} to float16 during quantization\")\n",
      "/home/user/env/jupyter/lib/python3.11/site-packages/bitsandbytes/autograd/_functions.py:185: UserWarning: MatMul8bitLt: inputs will be cast from torch.float32 to float16 during quantization\n",
      "  warnings.warn(f\"MatMul8bitLt: inputs will be cast from {A.dtype} to float16 during quantization\")\n",
      "/home/user/env/jupyter/lib/python3.11/site-packages/bitsandbytes/autograd/_functions.py:185: UserWarning: MatMul8bitLt: inputs will be cast from torch.float32 to float16 during quantization\n",
      "  warnings.warn(f\"MatMul8bitLt: inputs will be cast from {A.dtype} to float16 during quantization\")\n",
      "/home/user/env/jupyter/lib/python3.11/site-packages/bitsandbytes/autograd/_functions.py:185: UserWarning: MatMul8bitLt: inputs will be cast from torch.float32 to float16 during quantization\n",
      "  warnings.warn(f\"MatMul8bitLt: inputs will be cast from {A.dtype} to float16 during quantization\")\n",
      "/home/user/env/jupyter/lib/python3.11/site-packages/bitsandbytes/autograd/_functions.py:185: UserWarning: MatMul8bitLt: inputs will be cast from torch.float32 to float16 during quantization\n",
      "  warnings.warn(f\"MatMul8bitLt: inputs will be cast from {A.dtype} to float16 during quantization\")\n",
      "/home/user/env/jupyter/lib/python3.11/site-packages/bitsandbytes/autograd/_functions.py:185: UserWarning: MatMul8bitLt: inputs will be cast from torch.float32 to float16 during quantization\n",
      "  warnings.warn(f\"MatMul8bitLt: inputs will be cast from {A.dtype} to float16 during quantization\")\n",
      "/home/user/env/jupyter/lib/python3.11/site-packages/bitsandbytes/autograd/_functions.py:185: UserWarning: MatMul8bitLt: inputs will be cast from torch.float32 to float16 during quantization\n",
      "  warnings.warn(f\"MatMul8bitLt: inputs will be cast from {A.dtype} to float16 during quantization\")\n",
      "/home/user/env/jupyter/lib/python3.11/site-packages/bitsandbytes/autograd/_functions.py:185: UserWarning: MatMul8bitLt: inputs will be cast from torch.float32 to float16 during quantization\n",
      "  warnings.warn(f\"MatMul8bitLt: inputs will be cast from {A.dtype} to float16 during quantization\")\n",
      "/home/user/env/jupyter/lib/python3.11/site-packages/bitsandbytes/autograd/_functions.py:185: UserWarning: MatMul8bitLt: inputs will be cast from torch.float32 to float16 during quantization\n",
      "  warnings.warn(f\"MatMul8bitLt: inputs will be cast from {A.dtype} to float16 during quantization\")\n",
      "/home/user/env/jupyter/lib/python3.11/site-packages/bitsandbytes/autograd/_functions.py:185: UserWarning: MatMul8bitLt: inputs will be cast from torch.float32 to float16 during quantization\n",
      "  warnings.warn(f\"MatMul8bitLt: inputs will be cast from {A.dtype} to float16 during quantization\")\n",
      "/home/user/env/jupyter/lib/python3.11/site-packages/bitsandbytes/autograd/_functions.py:185: UserWarning: MatMul8bitLt: inputs will be cast from torch.float32 to float16 during quantization\n",
      "  warnings.warn(f\"MatMul8bitLt: inputs will be cast from {A.dtype} to float16 during quantization\")\n",
      "/home/user/env/jupyter/lib/python3.11/site-packages/bitsandbytes/autograd/_functions.py:185: UserWarning: MatMul8bitLt: inputs will be cast from torch.float32 to float16 during quantization\n",
      "  warnings.warn(f\"MatMul8bitLt: inputs will be cast from {A.dtype} to float16 during quantization\")\n",
      "/home/user/env/jupyter/lib/python3.11/site-packages/bitsandbytes/autograd/_functions.py:185: UserWarning: MatMul8bitLt: inputs will be cast from torch.float32 to float16 during quantization\n",
      "  warnings.warn(f\"MatMul8bitLt: inputs will be cast from {A.dtype} to float16 during quantization\")\n",
      "/home/user/env/jupyter/lib/python3.11/site-packages/bitsandbytes/autograd/_functions.py:185: UserWarning: MatMul8bitLt: inputs will be cast from torch.float32 to float16 during quantization\n",
      "  warnings.warn(f\"MatMul8bitLt: inputs will be cast from {A.dtype} to float16 during quantization\")\n",
      "/home/user/env/jupyter/lib/python3.11/site-packages/bitsandbytes/autograd/_functions.py:185: UserWarning: MatMul8bitLt: inputs will be cast from torch.float32 to float16 during quantization\n",
      "  warnings.warn(f\"MatMul8bitLt: inputs will be cast from {A.dtype} to float16 during quantization\")\n",
      "/home/user/env/jupyter/lib/python3.11/site-packages/bitsandbytes/autograd/_functions.py:185: UserWarning: MatMul8bitLt: inputs will be cast from torch.float32 to float16 during quantization\n",
      "  warnings.warn(f\"MatMul8bitLt: inputs will be cast from {A.dtype} to float16 during quantization\")\n",
      "/home/user/env/jupyter/lib/python3.11/site-packages/bitsandbytes/autograd/_functions.py:185: UserWarning: MatMul8bitLt: inputs will be cast from torch.float32 to float16 during quantization\n",
      "  warnings.warn(f\"MatMul8bitLt: inputs will be cast from {A.dtype} to float16 during quantization\")\n",
      "/home/user/env/jupyter/lib/python3.11/site-packages/bitsandbytes/autograd/_functions.py:185: UserWarning: MatMul8bitLt: inputs will be cast from torch.float32 to float16 during quantization\n",
      "  warnings.warn(f\"MatMul8bitLt: inputs will be cast from {A.dtype} to float16 during quantization\")\n",
      "/home/user/env/jupyter/lib/python3.11/site-packages/bitsandbytes/autograd/_functions.py:185: UserWarning: MatMul8bitLt: inputs will be cast from torch.float32 to float16 during quantization\n",
      "  warnings.warn(f\"MatMul8bitLt: inputs will be cast from {A.dtype} to float16 during quantization\")\n",
      "/home/user/env/jupyter/lib/python3.11/site-packages/bitsandbytes/autograd/_functions.py:185: UserWarning: MatMul8bitLt: inputs will be cast from torch.float32 to float16 during quantization\n",
      "  warnings.warn(f\"MatMul8bitLt: inputs will be cast from {A.dtype} to float16 during quantization\")\n",
      "/home/user/env/jupyter/lib/python3.11/site-packages/bitsandbytes/autograd/_functions.py:185: UserWarning: MatMul8bitLt: inputs will be cast from torch.float32 to float16 during quantization\n",
      "  warnings.warn(f\"MatMul8bitLt: inputs will be cast from {A.dtype} to float16 during quantization\")\n",
      "/home/user/env/jupyter/lib/python3.11/site-packages/bitsandbytes/autograd/_functions.py:185: UserWarning: MatMul8bitLt: inputs will be cast from torch.float32 to float16 during quantization\n",
      "  warnings.warn(f\"MatMul8bitLt: inputs will be cast from {A.dtype} to float16 during quantization\")\n",
      "/home/user/env/jupyter/lib/python3.11/site-packages/bitsandbytes/autograd/_functions.py:185: UserWarning: MatMul8bitLt: inputs will be cast from torch.float32 to float16 during quantization\n",
      "  warnings.warn(f\"MatMul8bitLt: inputs will be cast from {A.dtype} to float16 during quantization\")\n",
      "/home/user/env/jupyter/lib/python3.11/site-packages/bitsandbytes/autograd/_functions.py:185: UserWarning: MatMul8bitLt: inputs will be cast from torch.float32 to float16 during quantization\n",
      "  warnings.warn(f\"MatMul8bitLt: inputs will be cast from {A.dtype} to float16 during quantization\")\n",
      "/home/user/env/jupyter/lib/python3.11/site-packages/bitsandbytes/autograd/_functions.py:185: UserWarning: MatMul8bitLt: inputs will be cast from torch.float32 to float16 during quantization\n",
      "  warnings.warn(f\"MatMul8bitLt: inputs will be cast from {A.dtype} to float16 during quantization\")\n",
      "/home/user/env/jupyter/lib/python3.11/site-packages/bitsandbytes/autograd/_functions.py:185: UserWarning: MatMul8bitLt: inputs will be cast from torch.float32 to float16 during quantization\n",
      "  warnings.warn(f\"MatMul8bitLt: inputs will be cast from {A.dtype} to float16 during quantization\")\n",
      "/home/user/env/jupyter/lib/python3.11/site-packages/bitsandbytes/autograd/_functions.py:185: UserWarning: MatMul8bitLt: inputs will be cast from torch.float32 to float16 during quantization\n",
      "  warnings.warn(f\"MatMul8bitLt: inputs will be cast from {A.dtype} to float16 during quantization\")\n",
      "/home/user/env/jupyter/lib/python3.11/site-packages/bitsandbytes/autograd/_functions.py:185: UserWarning: MatMul8bitLt: inputs will be cast from torch.float32 to float16 during quantization\n",
      "  warnings.warn(f\"MatMul8bitLt: inputs will be cast from {A.dtype} to float16 during quantization\")\n",
      "/home/user/env/jupyter/lib/python3.11/site-packages/bitsandbytes/autograd/_functions.py:185: UserWarning: MatMul8bitLt: inputs will be cast from torch.float32 to float16 during quantization\n",
      "  warnings.warn(f\"MatMul8bitLt: inputs will be cast from {A.dtype} to float16 during quantization\")\n",
      "/home/user/env/jupyter/lib/python3.11/site-packages/bitsandbytes/autograd/_functions.py:185: UserWarning: MatMul8bitLt: inputs will be cast from torch.float32 to float16 during quantization\n",
      "  warnings.warn(f\"MatMul8bitLt: inputs will be cast from {A.dtype} to float16 during quantization\")\n"
     ]
    },
    {
     "data": {
      "text/html": [],
      "text/plain": [
       "<IPython.core.display.HTML object>"
      ]
     },
     "metadata": {},
     "output_type": "display_data"
    },
    {
     "data": {
      "text/html": [
       "<br>    <style><br>        .wandb-row {<br>            display: flex;<br>            flex-direction: row;<br>            flex-wrap: wrap;<br>            justify-content: flex-start;<br>            width: 100%;<br>        }<br>        .wandb-col {<br>            display: flex;<br>            flex-direction: column;<br>            flex-basis: 100%;<br>            flex: 1;<br>            padding: 10px;<br>        }<br>    </style><br><div class=\"wandb-row\"><div class=\"wandb-col\"><h3>Run history:</h3><br/><table class=\"wandb\"><tr><td>eval/loss</td><td>██▇▇▇▆▆▅▅▅▄▄▄▄▃▃▃▃▃▂▂▂▂▂▂▁▁▁▁▁▁</td></tr><tr><td>eval/runtime</td><td>▁▂▄▃▄▃▃▄▃▄▄▄▄▃▄▃▃▃▃▄▄█▄▄▃▄▃▄▃▄▃</td></tr><tr><td>eval/samples_per_second</td><td>█▇▅▆▅▆▆▅▆▅▅▅▅▆▅▅▆▆▆▅▅▁▅▅▆▅▅▅▆▅▅</td></tr><tr><td>eval/steps_per_second</td><td>█▇▅▆▅▆▆▅▆▅▅▅▅▅▅▅▆▆▆▅▅▁▅▅▅▅▅▅▅▅▅</td></tr><tr><td>total_params</td><td>▁█</td></tr><tr><td>train/epoch</td><td>▁▁▁▂▂▂▂▂▂▂▃▃▃▃▃▄▄▄▄▄▄▄▅▅▅▅▆▆▆▆▇▇▇▇▇▇████</td></tr><tr><td>train/global_step</td><td>▁▁▁▂▂▂▂▂▂▂▃▃▃▃▄▄▄▄▄▄▄▅▅▅▅▆▆▆▆▆▇▇▇▇▇█████</td></tr><tr><td>train/grad_norm</td><td>▁▂▂▂▃▄▄▃▄▅▄▄▄▄▅▅▅▅▅▆▅▆▆▆▆▇▆▆▆▆▆▇▇█▆▆▅▇▇▆</td></tr><tr><td>train/learning_rate</td><td>▂▃▄▆██▇▇▇▇▇▇▇▇▇▆▆▆▆▆▅▅▄▄▄▄▄▄▄▃▃▃▃▃▂▂▂▂▂▁</td></tr><tr><td>train/loss</td><td>█▆▆▆▆▆▅▅▄▄▄▄▄▄▄▃▃▃▃▃▃▂▃▂▂▂▂▂▂▂▂▁▂▂▂▁▁▁▁▁</td></tr><tr><td>trainable_params</td><td>▁█</td></tr><tr><td>trainable_percentage</td><td>▁█</td></tr></table><br/></div><div class=\"wandb-col\"><h3>Run summary:</h3><br/><table class=\"wandb\"><tr><td>eval/loss</td><td>1.5188</td></tr><tr><td>eval/runtime</td><td>22.6641</td></tr><tr><td>eval/samples_per_second</td><td>19.855</td></tr><tr><td>eval/steps_per_second</td><td>2.515</td></tr><tr><td>total_flos</td><td>3.813800558985216e+16</td></tr><tr><td>total_params</td><td>1237518336</td></tr><tr><td>train/epoch</td><td>5</td></tr><tr><td>train/global_step</td><td>1595</td></tr><tr><td>train/grad_norm</td><td>2.76561</td></tr><tr><td>train/learning_rate</td><td>0.0</td></tr><tr><td>train/loss</td><td>0.9972</td></tr><tr><td>train_loss</td><td>1.68185</td></tr><tr><td>train_runtime</td><td>3512.6762</td></tr><tr><td>train_samples_per_second</td><td>3.625</td></tr><tr><td>train_steps_per_second</td><td>0.454</td></tr><tr><td>trainable_params</td><td>1703936</td></tr><tr><td>trainable_percentage</td><td>0.13769</td></tr></table><br/></div></div>"
      ],
      "text/plain": [
       "<IPython.core.display.HTML object>"
      ]
     },
     "metadata": {},
     "output_type": "display_data"
    },
    {
     "data": {
      "text/html": [
       " View run <strong style=\"color:#cdcd00\">pretty-oath-91</strong> at: <a href='https://wandb.ai/ahmadhakimiadnan-other/fine-tuning-llms/runs/nvinl3io' target=\"_blank\">https://wandb.ai/ahmadhakimiadnan-other/fine-tuning-llms/runs/nvinl3io</a><br> View project at: <a href='https://wandb.ai/ahmadhakimiadnan-other/fine-tuning-llms' target=\"_blank\">https://wandb.ai/ahmadhakimiadnan-other/fine-tuning-llms</a><br>Synced 5 W&B file(s), 0 media file(s), 0 artifact file(s) and 0 other file(s)"
      ],
      "text/plain": [
       "<IPython.core.display.HTML object>"
      ]
     },
     "metadata": {},
     "output_type": "display_data"
    },
    {
     "data": {
      "text/html": [
       "Find logs at: <code>./wandb/run-20250818_144937-nvinl3io/logs</code>"
      ],
      "text/plain": [
       "<IPython.core.display.HTML object>"
      ]
     },
     "metadata": {},
     "output_type": "display_data"
    }
   ],
   "source": [
    "trainer.train()\n",
    "wandb.finish()"
   ]
  },
  {
   "cell_type": "code",
   "execution_count": 4,
   "id": "c234f01c-16b0-4cce-8aed-b2a121ee5f16",
   "metadata": {},
   "outputs": [
    {
     "name": "stderr",
     "output_type": "stream",
     "text": [
      "2025-08-18 22:50:11.366246: I tensorflow/core/util/port.cc:153] oneDNN custom operations are on. You may see slightly different numerical results due to floating-point round-off errors from different computation orders. To turn them off, set the environment variable `TF_ENABLE_ONEDNN_OPTS=0`.\n",
      "2025-08-18 22:50:11.373115: E external/local_xla/xla/stream_executor/cuda/cuda_fft.cc:477] Unable to register cuFFT factory: Attempting to register factory for plugin cuFFT when one has already been registered\n",
      "WARNING: All log messages before absl::InitializeLog() is called are written to STDERR\n",
      "E0000 00:00:1755528611.380435 3049480 cuda_dnn.cc:8310] Unable to register cuDNN factory: Attempting to register factory for plugin cuDNN when one has already been registered\n",
      "E0000 00:00:1755528611.382234 3049480 cuda_blas.cc:1418] Unable to register cuBLAS factory: Attempting to register factory for plugin cuBLAS when one has already been registered\n",
      "2025-08-18 22:50:11.388858: I tensorflow/core/platform/cpu_feature_guard.cc:210] This TensorFlow binary is optimized to use available CPU instructions in performance-critical operations.\n",
      "To enable the following instructions: AVX2 AVX_VNNI FMA, in other operations, rebuild TensorFlow with the appropriate compiler flags.\n"
     ]
    },
    {
     "name": "stdout",
     "output_type": "stream",
     "text": [
      "* Running on local URL:  http://127.0.0.1:7860\n",
      "* Running on public URL: https://e5dbe8241d1fcc45ff.gradio.live\n",
      "\n",
      "This share link expires in 1 week. For free permanent hosting and GPU upgrades, run `gradio deploy` from the terminal in the working directory to deploy to Hugging Face Spaces (https://huggingface.co/spaces)\n"
     ]
    },
    {
     "data": {
      "text/html": [
       "<div><iframe src=\"https://e5dbe8241d1fcc45ff.gradio.live\" width=\"100%\" height=\"500\" allow=\"autoplay; camera; microphone; clipboard-read; clipboard-write;\" frameborder=\"0\" allowfullscreen></iframe></div>"
      ],
      "text/plain": [
       "<IPython.core.display.HTML object>"
      ]
     },
     "metadata": {},
     "output_type": "display_data"
    },
    {
     "data": {
      "text/plain": []
     },
     "execution_count": 4,
     "metadata": {},
     "output_type": "execute_result"
    },
    {
     "name": "stderr",
     "output_type": "stream",
     "text": [
      "Setting `pad_token_id` to `eos_token_id`:128001 for open-end generation.\n",
      "Setting `pad_token_id` to `eos_token_id`:128001 for open-end generation.\n",
      "Setting `pad_token_id` to `eos_token_id`:128001 for open-end generation.\n",
      "Setting `pad_token_id` to `eos_token_id`:128001 for open-end generation.\n",
      "Setting `pad_token_id` to `eos_token_id`:128001 for open-end generation.\n",
      "Setting `pad_token_id` to `eos_token_id`:128001 for open-end generation.\n",
      "Setting `pad_token_id` to `eos_token_id`:128001 for open-end generation.\n",
      "Setting `pad_token_id` to `eos_token_id`:128001 for open-end generation.\n",
      "Setting `pad_token_id` to `eos_token_id`:128001 for open-end generation.\n",
      "Setting `pad_token_id` to `eos_token_id`:128001 for open-end generation.\n"
     ]
    }
   ],
   "source": [
    "#human evaluation\n",
    "import torch\n",
    "from transformers import AutoTokenizer, AutoModelForCausalLM\n",
    "from peft import PeftModel\n",
    "import gradio as gr\n",
    "\n",
    "base_model_name = \"meta-llama/Llama-3.2-1B\"\n",
    "\n",
    "tokenizer = AutoTokenizer.from_pretrained(base_model_name)\n",
    "tokenizer.pad_token = tokenizer.eos_token\n",
    "\n",
    "#load baseline model\n",
    "baseline_model = AutoModelForCausalLM.from_pretrained(\n",
    "    base_model_name,\n",
    "    torch_dtype=torch.float16,\n",
    "    device_map=\"auto\"\n",
    ")\n",
    "baseline_model.eval()\n",
    "\n",
    "#load fine-tuned LoRA adapter\n",
    "base = baseline_model  # for LoRA\n",
    "model = PeftModel.from_pretrained(base, \"QLoRA/checkpoint-1595\")\n",
    "model.eval()\n",
    "\n",
    "def build_prompt(instruction, input_text=\"\"):\n",
    "    prompt = f\"Instruction:\\n{instruction.strip()}\\n\"\n",
    "    if input_text.strip():\n",
    "        prompt += f\"\\nInput:\\n{input_text.strip()}\\n\"\n",
    "    prompt += \"\\nResponse:\\n\"\n",
    "    return prompt\n",
    "\n",
    "def generate_text(instruction, input_text):\n",
    "    prompt = build_prompt(instruction, input_text)\n",
    "    inputs = tokenizer(prompt, return_tensors=\"pt\").to(model.device)\n",
    "\n",
    "    #generate baseline response\n",
    "    with torch.no_grad():\n",
    "        baseline_outputs = baseline_model.generate(\n",
    "            **inputs,\n",
    "            max_new_tokens=256,\n",
    "            temperature=0.7,\n",
    "            top_p=0.9,\n",
    "            repetition_penalty=1.1,\n",
    "            do_sample=True\n",
    "        )\n",
    "    baseline_text = tokenizer.decode(baseline_outputs[0], skip_special_tokens=True).split(\"Response:\")[-1].strip()\n",
    "\n",
    "    #generate fine-tuned LoRA response\n",
    "    with torch.no_grad():\n",
    "        lora_outputs = model.generate(\n",
    "            **inputs,\n",
    "            max_new_tokens=256,\n",
    "            temperature=0.7,\n",
    "            top_p=0.9,\n",
    "            repetition_penalty=1.1,\n",
    "            do_sample=True\n",
    "        )\n",
    "    lora_text = tokenizer.decode(lora_outputs[0], skip_special_tokens=True).split(\"Response:\")[-1].strip()\n",
    "\n",
    "    return f\"Baseline Response: \\n{baseline_text}\\n\\nFine-tuned Response: \\n{lora_text}\"\n",
    "\n",
    "interface = gr.Interface(\n",
    "    fn=generate_text,\n",
    "    inputs=[\n",
    "        gr.Textbox(label=\"Instruction\", lines=2, placeholder=\"e.g. What is the best team in London?\"),\n",
    "        gr.Textbox(label=\"Input (optional)\", lines=2, placeholder=\"Add context if needed\"),\n",
    "    ],\n",
    "    outputs=gr.Textbox(label=\"Comparison\"),\n",
    "    title=\"LLaMA 3.2 1B Baseline model vs QLoRA Fine-tuned\",\n",
    "    description=\"Compare the baseline LLaMA 3.2 1B model with your fine-tuned QLoRA model.\"\n",
    ")\n",
    "\n",
    "interface.launch(share=True)\n"
   ]
  },
  {
   "cell_type": "markdown",
   "id": "5901f40d-5015-4bf5-ac70-06f637d9ac5d",
   "metadata": {},
   "source": [
    "## numerical evaluation\n",
    "from sklearn.metrics import f1_score\n",
    "from sklearn.preprocessing import MultiLabelBinarizer\n",
    "from tqdm import tqdm\n",
    "import torch\n",
    "import logging\n",
    "from transformers import logging as hf_logging\n",
    "\n",
    "from transformers import AutoTokenizer, AutoModelForCausalLM\n",
    "from peft import PeftModel\n",
    "\n",
    "\n",
    "from nltk.translate.bleu_score import sentence_bleu, SmoothingFunction\n",
    "from rouge_score import rouge_scorer\n",
    "import nltk\n",
    "nltk.download('punkt')\n",
    "\n",
    "base_model = \"meta-llama/Llama-3.2-1B\"\n",
    "tokenizer = AutoTokenizer.from_pretrained(base_model)\n",
    "base = AutoModelForCausalLM.from_pretrained(base_model, torch_dtype=torch.float16, device_map=\"auto\")\n",
    "model = PeftModel.from_pretrained(base, \"QLoRA/checkpoint-1595\")\n",
    "model.eval()\n",
    "\n",
    "logging.getLogger().setLevel(logging.ERROR)\n",
    "hf_logging.set_verbosity_error()\n",
    "\n",
    "#evaluation\n",
    "true_answers = []\n",
    "predicted_answers = []\n",
    "\n",
    "for sample in tqdm(data[\"test\"]):\n",
    "    instruction = sample[\"instruction\"]\n",
    "    input_text = sample[\"input\"]\n",
    "    true_output = sample[\"new_output\"]\n",
    "\n",
    "    prompt = f\"Instruction:\\n{instruction.strip()}\\n\"\n",
    "    if input_text is not None and input_text.strip():\n",
    "        prompt += f\"\\nInput:\\n{input_text.strip()}\\n\"\n",
    "    prompt += \"\\nResponse:\\n\"\n",
    "\n",
    "    inputs = tokenizer(prompt, return_tensors=\"pt\").to(model.device)\n",
    "\n",
    "    with torch.no_grad():\n",
    "        output_ids = model.generate(\n",
    "            **inputs,\n",
    "            max_new_tokens=128,\n",
    "            temperature=0.7,\n",
    "            top_p=0.9,\n",
    "            repetition_penalty=1.1,\n",
    "            do_sample=False\n",
    "        )\n",
    "    generated_text = tokenizer.decode(output_ids[0], skip_special_tokens=True)\n",
    "    predicted_response = generated_text.split(\"Response:\")[-1].strip()\n",
    "\n",
    "    predicted_answers.append(predicted_response)\n",
    "    true_answers.append(true_output.strip())\n",
    "    \n",
    "#f1\n",
    "true_token_sets = [set(ans.lower().split()) for ans in true_answers]\n",
    "pred_token_sets = [set(ans.lower().split()) for ans in predicted_answers]\n",
    "\n",
    "all_tokens = list(set().union(*true_token_sets, *pred_token_sets))\n",
    "mlb = MultiLabelBinarizer(classes=all_tokens)\n",
    "y_true_bin = mlb.fit_transform(true_token_sets)\n",
    "y_pred_bin = mlb.transform(pred_token_sets)\n",
    "\n",
    "f1 = f1_score(y_true_bin, y_pred_bin, average=\"macro\")\n",
    "print(f\"\\nMacro F1 Score on validation set: {f1:.4f}\"0)\n",
    "\n",
    "#BERTScore\n",
    "from bert_score import score as bert_score\n",
    "print(\"\\nCalculating BERTScore...\")\n",
    "\n",
    "P = predicted_answers\n",
    "R = true_answers\n",
    "\n",
    "P_scores, R_scores, F1_scores = bert_score(P, R, lang='en', verbose=True)\n",
    "average_bert_f1 = F1_scores.mean().item()\n",
    "print(f\"Average BERTScore F1 on validation set: {average_bert_f1:.4f}\")\n",
    "\n",
    "#BLEU\n",
    "print(\"\\nCalculating BLEU Score...\")\n",
    "\n",
    "smoothie = SmoothingFunction().method4\n",
    "bleu_scores = []\n",
    "for ref, pred in zip(true_answers, predicted_answers):\n",
    "    ref_tokens = [nltk.word_tokenize(ref.lower())]\n",
    "    pred_tokens = nltk.word_tokenize(pred.lower())\n",
    "    score = sentence_bleu(ref_tokens, pred_tokens, smoothing_function=smoothie)\n",
    "    bleu_scores.append(score)\n",
    "\n",
    "average_bleu = sum(bleu_scores) / len(bleu_scores)\n",
    "print(f\"Average BLEU Score on validation set: {average_bleu:.4f}\")\n",
    "\n",
    "#ROUGE\n",
    "print(\"\\nCalculating ROUGE Scores...\")\n",
    "\n",
    "scorer = rouge_scorer.RougeScorer(['rouge1', 'rouge2', 'rougeL'], use_stemmer=True)\n",
    "rouge1_list, rouge2_list, rougeL_list = [], [], []\n",
    "\n",
    "for ref, pred in zip(true_answers, predicted_answers):\n",
    "    scores = scorer.score(ref, pred)\n",
    "    rouge1_list.append(scores['rouge1'].fmeasure)\n",
    "    rouge2_list.append(scores['rouge2'].fmeasure)\n",
    "    rougeL_list.append(scores['rougeL'].fmeasure)\n",
    "\n",
    "avg_rouge1 = sum(rouge1_list) / len(rouge1_list)\n",
    "avg_rouge2 = sum(rouge2_list) / len(rouge2_list)\n",
    "avg_rougeL = sum(rougeL_list) / len(rougeL_list)\n",
    "\n",
    "print(f\"Average ROUGE-1 F1: {avg_rouge1:.4f}\")\n",
    "print(f\"Average ROUGE-2 F1: {avg_rouge2:.4f}\")\n",
    "print(f\"Average ROUGE-L F1: {avg_rougeL:.4f}\")"
   ]
  },
  {
   "cell_type": "code",
   "execution_count": 5,
   "id": "150c65f3-0b25-4460-af64-392ebf13558e",
   "metadata": {},
   "outputs": [
    {
     "name": "stderr",
     "output_type": "stream",
     "text": [
      "[nltk_data] Downloading package punkt to /home/user/nltk_data...\n",
      "[nltk_data]   Package punkt is already up-to-date!\n",
      "100%|███████████████████████████████████████████████████████████████████████████████████████████████████████████████████████████████████| 450/450 [04:11<00:00,  1.79it/s]\n"
     ]
    },
    {
     "name": "stdout",
     "output_type": "stream",
     "text": [
      "\n",
      "Macro F1 Score on validation set: 0.0962\n",
      "\n",
      "Calculating BERTScore...\n",
      "calculating scores...\n",
      "computing bert embedding.\n"
     ]
    },
    {
     "data": {
      "application/vnd.jupyter.widget-view+json": {
       "model_id": "7b272bdd2a01478b90f9dd2eb4863cb9",
       "version_major": 2,
       "version_minor": 0
      },
      "text/plain": [
       "  0%|          | 0/13 [00:00<?, ?it/s]"
      ]
     },
     "metadata": {},
     "output_type": "display_data"
    },
    {
     "name": "stdout",
     "output_type": "stream",
     "text": [
      "computing greedy matching.\n"
     ]
    },
    {
     "data": {
      "application/vnd.jupyter.widget-view+json": {
       "model_id": "f8065e4163a84934b123ff03cfe57d1d",
       "version_major": 2,
       "version_minor": 0
      },
      "text/plain": [
       "  0%|          | 0/8 [00:00<?, ?it/s]"
      ]
     },
     "metadata": {},
     "output_type": "display_data"
    },
    {
     "name": "stdout",
     "output_type": "stream",
     "text": [
      "done in 1.28 seconds, 351.72 sentences/sec\n",
      "Average BERTScore F1 on validation set: 0.8695\n",
      "\n",
      "Calculating BLEU Score...\n",
      "Average BLEU Score on validation set: 0.1461\n",
      "\n",
      "Calculating ROUGE Scores...\n",
      "Average ROUGE-1 F1: 0.3395\n",
      "Average ROUGE-2 F1: 0.2420\n",
      "Average ROUGE-L F1: 0.3383\n"
     ]
    },
    {
     "name": "stderr",
     "output_type": "stream",
     "text": [
      "Warning: Empty candidate sentence detected; setting raw BERTscores to 0.\n",
      "Warning: Empty candidate sentence detected; setting raw BERTscores to 0.\n"
     ]
    }
   ],
   "source": [
    "#numerical evaluation\n",
    "from sklearn.metrics import f1_score\n",
    "from sklearn.preprocessing import MultiLabelBinarizer\n",
    "from tqdm import tqdm\n",
    "import torch\n",
    "import logging\n",
    "from transformers import logging as hf_logging\n",
    "\n",
    "from transformers import AutoTokenizer, AutoModelForCausalLM\n",
    "from peft import PeftModel\n",
    "\n",
    "\n",
    "from nltk.translate.bleu_score import sentence_bleu, SmoothingFunction\n",
    "from rouge_score import rouge_scorer\n",
    "import nltk\n",
    "nltk.download('punkt')\n",
    "\n",
    "base_model = \"meta-llama/Llama-3.2-1B\"\n",
    "tokenizer = AutoTokenizer.from_pretrained(base_model)\n",
    "base = AutoModelForCausalLM.from_pretrained(base_model, torch_dtype=torch.float16, device_map=\"auto\")\n",
    "model = PeftModel.from_pretrained(base, \"QLoRA/checkpoint-1595\")\n",
    "model.eval()\n",
    "\n",
    "logging.getLogger().setLevel(logging.ERROR)\n",
    "hf_logging.set_verbosity_error()\n",
    "\n",
    "#evaluation\n",
    "true_answers = []\n",
    "predicted_answers = []\n",
    "\n",
    "for sample in tqdm(data[\"test\"]):\n",
    "    instruction = sample[\"instruction\"]\n",
    "    input_text = sample[\"input\"]\n",
    "    true_output = sample[\"new_output\"]\n",
    "\n",
    "    prompt = f\"Instruction:\\n{instruction.strip()}\\n\"\n",
    "    if input_text is not None and input_text.strip():\n",
    "        prompt += f\"\\nInput:\\n{input_text.strip()}\\n\"\n",
    "    prompt += \"\\nResponse:\\n\"\n",
    "\n",
    "    inputs = tokenizer(prompt, return_tensors=\"pt\").to(model.device)\n",
    "\n",
    "    with torch.no_grad():\n",
    "        output_ids = model.generate(\n",
    "            **inputs,\n",
    "            max_new_tokens=128,\n",
    "            temperature=0.7,\n",
    "            top_p=0.9,\n",
    "            repetition_penalty=1.1,\n",
    "            do_sample=False\n",
    "        )\n",
    "    generated_text = tokenizer.decode(output_ids[0], skip_special_tokens=True)\n",
    "    predicted_response = generated_text.split(\"Response:\")[-1].strip()\n",
    "\n",
    "    predicted_answers.append(predicted_response)\n",
    "    true_answers.append(true_output.strip())\n",
    "    \n",
    "#f1\n",
    "true_token_sets = [set(ans.lower().split()) for ans in true_answers]\n",
    "pred_token_sets = [set(ans.lower().split()) for ans in predicted_answers]\n",
    "\n",
    "all_tokens = list(set().union(*true_token_sets, *pred_token_sets))\n",
    "mlb = MultiLabelBinarizer(classes=all_tokens)\n",
    "y_true_bin = mlb.fit_transform(true_token_sets)\n",
    "y_pred_bin = mlb.transform(pred_token_sets)\n",
    "\n",
    "f1 = f1_score(y_true_bin, y_pred_bin, average=\"macro\")\n",
    "print(f\"\\nMacro F1 Score on validation set: {f1:.4f}\")\n",
    "\n",
    "#BERTScore\n",
    "from bert_score import score as bert_score\n",
    "print(\"\\nCalculating BERTScore...\")\n",
    "\n",
    "P = predicted_answers\n",
    "R = true_answers\n",
    "\n",
    "P_scores, R_scores, F1_scores = bert_score(P, R, lang='en', verbose=True)\n",
    "average_bert_f1 = F1_scores.mean().item()\n",
    "print(f\"Average BERTScore F1 on validation set: {average_bert_f1:.4f}\")\n",
    "\n",
    "#BLEU\n",
    "print(\"\\nCalculating BLEU Score...\")\n",
    "\n",
    "smoothie = SmoothingFunction().method4\n",
    "bleu_scores = []\n",
    "for ref, pred in zip(true_answers, predicted_answers):\n",
    "    ref_tokens = [nltk.word_tokenize(ref.lower())]\n",
    "    pred_tokens = nltk.word_tokenize(pred.lower())\n",
    "    score = sentence_bleu(ref_tokens, pred_tokens, smoothing_function=smoothie)\n",
    "    bleu_scores.append(score)\n",
    "\n",
    "average_bleu = sum(bleu_scores) / len(bleu_scores)\n",
    "print(f\"Average BLEU Score on validation set: {average_bleu:.4f}\")\n",
    "\n",
    "#ROUGE\n",
    "print(\"\\nCalculating ROUGE Scores...\")\n",
    "\n",
    "scorer = rouge_scorer.RougeScorer(['rouge1', 'rouge2', 'rougeL'], use_stemmer=True)\n",
    "rouge1_list, rouge2_list, rougeL_list = [], [], []\n",
    "\n",
    "for ref, pred in zip(true_answers, predicted_answers):\n",
    "    scores = scorer.score(ref, pred)\n",
    "    rouge1_list.append(scores['rouge1'].fmeasure)\n",
    "    rouge2_list.append(scores['rouge2'].fmeasure)\n",
    "    rougeL_list.append(scores['rougeL'].fmeasure)\n",
    "\n",
    "avg_rouge1 = sum(rouge1_list) / len(rouge1_list)\n",
    "avg_rouge2 = sum(rouge2_list) / len(rouge2_list)\n",
    "avg_rougeL = sum(rougeL_list) / len(rougeL_list)\n",
    "\n",
    "print(f\"Average ROUGE-1 F1: {avg_rouge1:.4f}\")\n",
    "print(f\"Average ROUGE-2 F1: {avg_rouge2:.4f}\")\n",
    "print(f\"Average ROUGE-L F1: {avg_rougeL:.4f}\")"
   ]
  },
  {
   "cell_type": "code",
   "execution_count": null,
   "id": "0c57a4e3-3a19-49d4-8498-b03d8a8a3d13",
   "metadata": {},
   "outputs": [],
   "source": []
  }
 ],
 "metadata": {
  "kernelspec": {
   "display_name": "Python 3 (ipykernel)",
   "language": "python",
   "name": "python3"
  },
  "language_info": {
   "codemirror_mode": {
    "name": "ipython",
    "version": 3
   },
   "file_extension": ".py",
   "mimetype": "text/x-python",
   "name": "python",
   "nbconvert_exporter": "python",
   "pygments_lexer": "ipython3",
   "version": "3.11.2"
  }
 },
 "nbformat": 4,
 "nbformat_minor": 5
}
